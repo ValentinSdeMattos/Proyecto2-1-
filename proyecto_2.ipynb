{
 "cells": [
  {
   "cell_type": "markdown",
   "metadata": {
    "deletable": false,
    "editable": false,
    "nbgrader": {
     "checksum": "a72213caf229980373130c6f1679227c",
     "grade": false,
     "grade_id": "cell-018440ed2f1b6a62",
     "locked": true,
     "schema_version": 1,
     "solution": false
    }
   },
   "source": [
    "# Proyecto 2\n",
    "Todas las preguntas tienen el mismo peso en esta tarea. Esta tarea requiere más aprendizaje individual. Te invito a consultar la [documentación de pandas](https://pandas.pydata.org/pandas-docs/stable/) para encontrar funciones o métodos que quizás no has usado aún, o realices preguntas en [Stack Overflow](https://stackoverflow.com/) y etiquételos como relacionados con pandas y python. Todas las preguntas tienen la misma cantidad de puntos, excepto la pregunta 1, que vale el 20 % de la calificación de la tarea.\n",
    "\n",
    "**Nota**: A partir de la pregunta 2 se basan en la respuesta de la pregunta 1."
   ]
  },
  {
   "cell_type": "code",
   "execution_count": 72,
   "metadata": {
    "ExecuteTime": {
     "end_time": "2023-05-20T12:26:56.955975764Z",
     "start_time": "2023-05-20T12:26:56.237425858Z"
    }
   },
   "outputs": [],
   "source": [
    "import pandas as pd\n",
    "import numpy as np\n",
    "\n",
    "# Filter all warnings. If you would like to see the warnings, please comment the two lines below.\n",
    "import warnings\n",
    "\n",
    "warnings.filterwarnings('ignore')"
   ]
  },
  {
   "cell_type": "markdown",
   "metadata": {
    "deletable": false,
    "editable": false,
    "nbgrader": {
     "checksum": "68063b8b0783f3d8122b516e0cce5f45",
     "grade": false,
     "grade_id": "cell-7e5190c7ff1f2e42",
     "locked": true,
     "schema_version": 1,
     "solution": false
    }
   },
   "source": [
    "### Pregunta 1\n",
    "Cargue los datos de energía del archivo `assets/Energy Indicators.xls`, que es una lista de indicadores de [suministro de energía y producción de electricidad renovable](assets/Energy%20Indicators.xls) de las [Naciones Unidas](https://unstats.un.org/unsd/environment/excel_file_tables/2013/Energy%20Indicators.xls) para el año 2013, y asigna esos datos a un DataFrame con el nombre de variable **energy**.\n",
    "\n",
    "Ten en cuenta que este es un archivo de Excel y no un archivo de valores separados por comas (.csv). Además, asegúrate de excluir la información del pie de página y del encabezado del archivo de datos. Las primeras dos columnas son innecesarias, por lo que debes deshacerse de ellas. También debes cambiar las etiquetas de las columnas para que las columnas sean las siguientes:\n",
    "\n",
    "`['Country', 'Energy Supply', 'Energy Supply per Capita', '% Renewable']`\n",
    "\n",
    "Convierta `Energy Supply` a gigajulios (**Nota: hay 1,000,000 giga julios en un petajulio**). Para todos los países que carezcan de datos (por ejemplo, datos con \"...\"), asegúrese de que estos reflejen valores `np.NaN`.\n",
    "\n",
    "Cambia el nombre de los siguientes países según este listado (nos servirá para preguntas posteriores):\n",
    "\n",
    "```\n",
    "\"Republic of Korea\": \"South Korea\",\n",
    "\"United States of America\": \"United States\",\n",
    "\"United Kingdom of Great Britain and Northern Ireland\": \"United Kingdom\",\n",
    "\"China, Hong Kong Special Administrative Region\": \"Hong Kong\"\n",
    "```\n",
    "\n",
    "También hay varios países que contienen paréntesis en su nombre. Asegúrete de eliminarlos, por ejemplo: `'Bolivia (Estado Plurinacional de)'` debería ser `'Bolivia'`.\n",
    "\n",
    "A continuación, carga los datos del GDP (PBI) del archivo `assets/world_bank.csv`. Este es un archivo .csv del [Banco Mundial](https://data.worldbank.org/indicator/NY.GDP.MKTP.CD) que contiene el PBI de los países desde 1960 hasta 2015. Llame a este DataFrame **gdp**.\n",
    "\n",
    "Asegúrete de omitir el encabezado y cambia el nombre de la siguiente lista de países:\n",
    "\n",
    "```\n",
    "\"Korea, Rep.\": \"South Korea\",\n",
    "\"Iran, Islamic Rep.\": \"Iran\",\n",
    "\"Hong Kong SAR, China\": \"Hong Kong\"\n",
    "```\n",
    "\n",
    "Finalmente, lee el [Sciamgo Journal and Country Rank data for Energy Engineering and Power Technology](https://www.scimagojr.com/countryrank.php?category=2102) desde el archivo `assets/scimagojr-3.xlsx`, que clasifica a los paises según sus contribuciones al área mencionada. Denomina este DataFrame con el nombre **sciamgo**.\n",
    "\n",
    "Unifica los tres datasets: GDP, Energy, y ScimEn en un nuevo dataset (utilizando la intersección de los nombres de países). Utiliza solo los años del 2006 al 2015 de datos de GDP (PBI) y solo los 15 principales países según el ranking de Scimagojr 'Rank' (del 1 al 15).\n",
    "\n",
    "El índice de este DataFrame debe ser el nombre de los países, y las columnas deben ser ['Rank', 'Documents', 'Citable documents', 'Citations', 'Self-citations', 'Citations per document', 'H index', 'Energy Supply', 'Energy Supply per Capita', '% Renewable', '2006', '2007', '2008', '2009', '2010', '2011', '2012', '2013', '2014', '2015']\n",
    "\n",
    "*Esto debería devolver un DataFrame con 20 columnas y 15 entradas, y las filas del DataFrame deberían estar ordenadas por \"Rank\".*\n"
   ]
  },
  {
   "cell_type": "code",
   "execution_count": 73,
   "metadata": {
    "deletable": false,
    "editable": false,
    "nbgrader": {
     "checksum": "e241830bcf3f63326b4c9cdf50be8f86",
     "grade": true,
     "grade_id": "cell-74b5f0b971379f64",
     "locked": true,
     "points": 10,
     "schema_version": 1,
     "solution": false
    }
   },
   "outputs": [
    {
     "name": "stdout",
     "output_type": "stream",
     "text": [
      "                    Rank  Documents  Citable documents  Citations  \\\n",
      "Country                                                             \n",
      "China                1.0   127050.0           126767.0   597237.0   \n",
      "United States        2.0    96661.0            94747.0   792274.0   \n",
      "Japan                3.0    30504.0            30287.0   223024.0   \n",
      "United Kingdom       4.0    20944.0            20357.0   206091.0   \n",
      "Russian Federation   5.0    18534.0            18301.0    34266.0   \n",
      "Canada               6.0    17899.0            17620.0   215003.0   \n",
      "Germany              7.0    17027.0            16831.0   140566.0   \n",
      "India                8.0    15005.0            14841.0   128763.0   \n",
      "France               9.0    13153.0            12973.0   130632.0   \n",
      "South Korea         10.0    11983.0            11923.0   114675.0   \n",
      "Italy               11.0    10964.0            10794.0   111850.0   \n",
      "Spain               12.0     9428.0             9330.0   123336.0   \n",
      "Iran                13.0     8896.0             8819.0    57470.0   \n",
      "Australia           14.0     8831.0             8725.0    90765.0   \n",
      "Brazil              15.0     8668.0             8596.0    60702.0   \n",
      "\n",
      "                    Self-citations  Citations per document  H index  \\\n",
      "Country                                                               \n",
      "China                     411683.0                    4.70    138.0   \n",
      "United States             265436.0                    8.20    230.0   \n",
      "Japan                      61554.0                    7.31    134.0   \n",
      "United Kingdom             37874.0                    9.84    139.0   \n",
      "Russian Federation         12422.0                    1.85     57.0   \n",
      "Canada                     40930.0                   12.01    149.0   \n",
      "Germany                    27426.0                    8.26    126.0   \n",
      "India                      37209.0                    8.58    115.0   \n",
      "France                     28601.0                    9.93    114.0   \n",
      "South Korea                22595.0                    9.57    104.0   \n",
      "Italy                      26661.0                   10.20    106.0   \n",
      "Spain                      23964.0                   13.08    115.0   \n",
      "Iran                       19125.0                    6.46     72.0   \n",
      "Australia                  15606.0                   10.28    107.0   \n",
      "Brazil                     14396.0                    7.00     86.0   \n",
      "\n",
      "                   Energy Supply Energy Supply per Capita % Renewable  \\\n",
      "Country                                                                 \n",
      "China                        NaN                      NaN         NaN   \n",
      "United States                NaN                      NaN         NaN   \n",
      "Japan                        NaN                      NaN         NaN   \n",
      "United Kingdom               NaN                      NaN         NaN   \n",
      "Russian Federation   30709000000                      214    17.28868   \n",
      "Canada               10431000000                      296    61.94543   \n",
      "Germany              13261000000                      165    17.90153   \n",
      "India                33195000000                       26    14.96908   \n",
      "France                       NaN                      NaN         NaN   \n",
      "South Korea          11007000000                      221    2.279353   \n",
      "Italy                        NaN                      NaN         NaN   \n",
      "Spain                        NaN                      NaN         NaN   \n",
      "Iran                  9172000000                      119    5.707721   \n",
      "Australia                    NaN                      NaN         NaN   \n",
      "Brazil               12149000000                       59    69.64803   \n",
      "\n",
      "                            2006          2007          2008          2009  \\\n",
      "Country                                                                      \n",
      "China               3.992331e+12  4.559041e+12  4.997775e+12  5.459247e+12   \n",
      "United States       1.479230e+13  1.505540e+13  1.501149e+13  1.459484e+13   \n",
      "Japan               5.496542e+12  5.617036e+12  5.558527e+12  5.251308e+12   \n",
      "United Kingdom      2.419631e+12  2.482203e+12  2.470614e+12  2.367048e+12   \n",
      "Russian Federation  1.385793e+12  1.504071e+12  1.583004e+12  1.459199e+12   \n",
      "Canada              1.564469e+12  1.596740e+12  1.612713e+12  1.565145e+12   \n",
      "Germany             3.332891e+12  3.441561e+12  3.478809e+12  3.283340e+12   \n",
      "India               1.265894e+12  1.374865e+12  1.428361e+12  1.549483e+12   \n",
      "France              2.607840e+12  2.669424e+12  2.674637e+12  2.595967e+12   \n",
      "South Korea         9.410199e+11  9.924316e+11  1.020510e+12  1.027730e+12   \n",
      "Italy               2.202170e+12  2.234627e+12  2.211154e+12  2.089938e+12   \n",
      "Spain               1.414823e+12  1.468146e+12  1.484530e+12  1.431475e+12   \n",
      "Iran                3.895523e+11  4.250646e+11  4.289909e+11  4.389208e+11   \n",
      "Australia           1.021939e+12  1.060340e+12  1.099644e+12  1.119654e+12   \n",
      "Brazil              1.845080e+12  1.957118e+12  2.056809e+12  2.054215e+12   \n",
      "\n",
      "                            2010          2011          2012          2013  \\\n",
      "Country                                                                      \n",
      "China               6.039659e+12  6.612490e+12  7.124978e+12  7.672448e+12   \n",
      "United States       1.496437e+13  1.520402e+13  1.554216e+13  1.577367e+13   \n",
      "Japan               5.498718e+12  5.473738e+12  5.569102e+12  5.644659e+12   \n",
      "United Kingdom      2.403504e+12  2.450911e+12  2.479809e+12  2.533370e+12   \n",
      "Russian Federation  1.524917e+12  1.589943e+12  1.645876e+12  1.666934e+12   \n",
      "Canada              1.613406e+12  1.664087e+12  1.693133e+12  1.730688e+12   \n",
      "Germany             3.417298e+12  3.542371e+12  3.556724e+12  3.567317e+12   \n",
      "India               1.708459e+12  1.821872e+12  1.924235e+12  2.051982e+12   \n",
      "France              2.646995e+12  2.702032e+12  2.706968e+12  2.722567e+12   \n",
      "South Korea         1.094499e+12  1.134796e+12  1.160809e+12  1.194429e+12   \n",
      "Italy               2.125185e+12  2.137439e+12  2.077184e+12  2.040871e+12   \n",
      "Spain               1.431673e+12  1.417355e+12  1.380216e+12  1.357139e+12   \n",
      "Iran                4.677902e+11  4.853309e+11  4.532569e+11  4.445926e+11   \n",
      "Australia           1.142251e+12  1.169431e+12  1.211913e+12  1.241484e+12   \n",
      "Brazil              2.208872e+12  2.295245e+12  2.339209e+12  2.409740e+12   \n",
      "\n",
      "                            2014          2015  \n",
      "Country                                         \n",
      "China               8.230121e+12  8.797999e+12  \n",
      "United States       1.615662e+13  1.654857e+13  \n",
      "Japan               5.642884e+12  5.669563e+12  \n",
      "United Kingdom      2.605643e+12  2.666333e+12  \n",
      "Russian Federation  1.678709e+12  1.616149e+12  \n",
      "Canada              1.773486e+12  1.792609e+12  \n",
      "Germany             3.624386e+12  3.685556e+12  \n",
      "India               2.200617e+12  2.367206e+12  \n",
      "France              2.729632e+12  2.761185e+12  \n",
      "South Korea         1.234340e+12  1.266580e+12  \n",
      "Italy               2.033868e+12  2.049316e+12  \n",
      "Spain               1.375605e+12  1.419821e+12  \n",
      "Iran                4.639027e+11           NaN  \n",
      "Australia           1.272520e+12  1.301251e+12  \n",
      "Brazil              2.412231e+12  2.319423e+12  \n"
     ]
    }
   ],
   "source": [
    "\n",
    "energy_path = r'C:\\Users\\User\\OneDrive\\Escritorio\\Facultad\\Programación\\Analisis de datos\\Proyecto2-1-\\assets\\Energy Indicators.xls'\n",
    "energy = pd.read_excel(energy_path, skiprows=17, skipfooter=38, usecols=\"C:F\", header=None)\n",
    "energy.columns = ['Country', 'Energy Supply', 'Energy Supply per Capita', '% Renewable']\n",
    "energy.replace(\"...\", np.nan, inplace=True)\n",
    "energy['Energy Supply'] *= 1_000_000  \n",
    "\n",
    "country_renames_energy = {\n",
    "    \"Republic of Korea\": \"South Korea\",\n",
    "    \"United States of America\": \"United States\",\n",
    "    \"United Kingdom of Great Britain and Northern Ireland\": \"United Kingdom\",\n",
    "    \"China, Hong Kong Special Administrative Region\": \"Hong Kong\"\n",
    "}\n",
    "energy['Country'] = energy['Country'].replace(country_renames_energy)\n",
    "energy['Country'] = energy['Country'].str.replace(r\"\\(.*\\)\", \"\", regex=True).str.strip()\n",
    "\n",
    "gdp_path = r'C:\\Users\\User\\OneDrive\\Escritorio\\Facultad\\Programación\\Analisis de datos\\Proyecto2-1-\\assets\\world_bank.csv'\n",
    "gdp = pd.read_csv(gdp_path, skiprows=4)\n",
    "country_renames_gdp = {\n",
    "    \"Korea, Rep.\": \"South Korea\",\n",
    "    \"Iran, Islamic Rep.\": \"Iran\",\n",
    "    \"Hong Kong SAR, China\": \"Hong Kong\"\n",
    "}\n",
    "gdp['Country Name'] = gdp['Country Name'].replace(country_renames_gdp)\n",
    "gdp = gdp[['Country Name', '2006', '2007', '2008', '2009', '2010', '2011', '2012', '2013', '2014', '2015']]\n",
    "gdp.rename(columns={'Country Name': 'Country'}, inplace=True)\n",
    "\n",
    "sciamgo_path = r'C:\\Users\\User\\OneDrive\\Escritorio\\Facultad\\Programación\\Analisis de datos\\Proyecto2-1-\\assets\\scimagojr-3.xlsx'\n",
    "sciamgo = pd.read_excel(sciamgo_path)\n",
    "top_15_sciamgo = sciamgo[sciamgo['Rank'] <= 15]\n",
    "\n",
    "df_merged = pd.merge(top_15_sciamgo, energy, on='Country', how='inner')\n",
    "df_merged = pd.merge(df_merged, gdp, on='Country', how='inner')\n",
    "\n",
    "if len(df_merged) < 15:\n",
    "    df_merged_outer = pd.merge(top_15_sciamgo, energy, on='Country', how='outer')\n",
    "    df_merged_outer = pd.merge(df_merged_outer, gdp, on='Country', how='outer')\n",
    "\n",
    "    df_merged = df_merged_outer[df_merged_outer['Country'].isin(top_15_sciamgo['Country'])]\n",
    "\n",
    "df = df_merged.set_index('Country')\n",
    "df = df[['Rank', 'Documents', 'Citable documents', 'Citations', 'Self-citations',\n",
    "         'Citations per document', 'H index', 'Energy Supply', 'Energy Supply per Capita',\n",
    "         '% Renewable', '2006', '2007', '2008', '2009', '2010', '2011', '2012', '2013', '2014', '2015']]\n",
    "df = df.sort_values(by='Rank')\n",
    "\n",
    "print(df)\n",
    "\n"
   ]
  },
  {
   "cell_type": "markdown",
   "metadata": {
    "deletable": false,
    "editable": false,
    "nbgrader": {
     "checksum": "596280cd22ed98c5540580c62954ec2f",
     "grade": false,
     "grade_id": "cell-babe0ff2a1fc6b17",
     "locked": true,
     "schema_version": 1,
     "solution": false
    }
   },
   "source": [
    "### Pregunta 2\n",
    "La pregunta anterior unió tres datasets y luego los redujo a las 15 entradas principales. Pero antes de reducirlos a los 15 elementos principales, ¿cuántas entradas se perdieron?\n",
    "\n",
    "*Esta función debería devolver un solo número.*"
   ]
  },
  {
   "cell_type": "code",
   "execution_count": 74,
   "metadata": {
    "ExecuteTime": {
     "end_time": "2023-05-20T13:58:55.775721224Z",
     "start_time": "2023-05-20T13:58:55.774525828Z"
    },
    "deletable": false,
    "editable": false,
    "nbgrader": {
     "checksum": "c9a34da81c80126fd23ae2eac33f98f8",
     "grade": false,
     "grade_id": "cell-96f84e7b693bef63",
     "locked": true,
     "schema_version": 1,
     "solution": false
    }
   },
   "outputs": [
    {
     "data": {
      "text/html": [
       "<svg width=\"800\" height=\"300\">\n",
       "  <circle cx=\"150\" cy=\"180\" r=\"80\" fill-opacity=\"0.2\" stroke=\"black\" stroke-width=\"2\" fill=\"blue\" />\n",
       "  <circle cx=\"200\" cy=\"100\" r=\"80\" fill-opacity=\"0.2\" stroke=\"black\" stroke-width=\"2\" fill=\"red\" />\n",
       "  <circle cx=\"100\" cy=\"100\" r=\"80\" fill-opacity=\"0.2\" stroke=\"black\" stroke-width=\"2\" fill=\"green\" />\n",
       "  <line x1=\"150\" y1=\"125\" x2=\"300\" y2=\"150\" stroke=\"black\" stroke-width=\"2\" fill=\"black\" stroke-dasharray=\"5,3\"/>\n",
       "  <text x=\"300\" y=\"165\" font-family=\"Verdana\" font-size=\"35\">Todo menos esto!</text>\n",
       "</svg>\n"
      ],
      "text/plain": [
       "<IPython.core.display.HTML object>"
      ]
     },
     "metadata": {},
     "output_type": "display_data"
    }
   ],
   "source": [
    "%%HTML\n",
    "<svg width=\"800\" height=\"300\">\n",
    "  <circle cx=\"150\" cy=\"180\" r=\"80\" fill-opacity=\"0.2\" stroke=\"black\" stroke-width=\"2\" fill=\"blue\" />\n",
    "  <circle cx=\"200\" cy=\"100\" r=\"80\" fill-opacity=\"0.2\" stroke=\"black\" stroke-width=\"2\" fill=\"red\" />\n",
    "  <circle cx=\"100\" cy=\"100\" r=\"80\" fill-opacity=\"0.2\" stroke=\"black\" stroke-width=\"2\" fill=\"green\" />\n",
    "  <line x1=\"150\" y1=\"125\" x2=\"300\" y2=\"150\" stroke=\"black\" stroke-width=\"2\" fill=\"black\" stroke-dasharray=\"5,3\"/>\n",
    "  <text x=\"300\" y=\"165\" font-family=\"Verdana\" font-size=\"35\">Todo menos esto!</text>\n",
    "</svg>"
   ]
  },
  {
   "cell_type": "code",
   "execution_count": 75,
   "metadata": {
    "collapsed": false
   },
   "outputs": [
    {
     "data": {
      "text/plain": [
       "127"
      ]
     },
     "execution_count": 75,
     "metadata": {},
     "output_type": "execute_result"
    }
   ],
   "source": [
    "paises_intersectados = pd.merge(pd.merge(energy, gdp, on='Country'), sciamgo, on='Country')\n",
    "total_paises_antes_de_reducir = len(paises_intersectados)\n",
    "\n",
    "total_paises_despues_de_reducir = 15\n",
    "\n",
    "entradas_perdidas = total_paises_antes_de_reducir - total_paises_despues_de_reducir\n",
    "entradas_perdidas\n"
   ]
  },
  {
   "cell_type": "markdown",
   "metadata": {
    "deletable": false,
    "editable": false,
    "nbgrader": {
     "checksum": "5af1b4f99cd383263130f4c00442a133",
     "grade": false,
     "grade_id": "cell-2e54816014e48c18",
     "locked": true,
     "schema_version": 1,
     "solution": false
    }
   },
   "source": [
    "### Pregunta 3\n",
    "¿Cuáles son los 15 países con mayor GDP (PBI) promedio en los últimos 10 años?\n",
    "\n",
    "*Esta función debería devolver una serie llamada `avgGDP` con 15 países y su GDP (PBI) promedio ordenado en orden descendente.*"
   ]
  },
  {
   "cell_type": "code",
   "execution_count": 76,
   "metadata": {
    "deletable": false,
    "editable": false,
    "nbgrader": {
     "checksum": "2f9c90ee07138f94c027c5d2f907ab13",
     "grade": true,
     "grade_id": "cell-aaaa11ef7d26f4cf",
     "locked": true,
     "points": 6.66,
     "schema_version": 1,
     "solution": false
    }
   },
   "outputs": [
    {
     "data": {
      "text/plain": [
       "Country\n",
       "United States         1.536434e+13\n",
       "China                 6.348609e+12\n",
       "Japan                 5.542208e+12\n",
       "Germany               3.493025e+12\n",
       "France                2.681725e+12\n",
       "United Kingdom        2.487907e+12\n",
       "Brazil                2.189794e+12\n",
       "Italy                 2.120175e+12\n",
       "India                 1.769297e+12\n",
       "Canada                1.660647e+12\n",
       "Russian Federation    1.565459e+12\n",
       "Spain                 1.418078e+12\n",
       "Australia             1.164043e+12\n",
       "South Korea           1.106715e+12\n",
       "Iran                  4.441558e+11\n",
       "Name: avgGDP, dtype: float64"
      ]
     },
     "execution_count": 76,
     "metadata": {},
     "output_type": "execute_result"
    }
   ],
   "source": [
    "gdp_columns = [str(year) for year in range(2006, 2016)]\n",
    "df['avgGDP'] = df[gdp_columns].mean(axis=1)\n",
    "\n",
    "avgGDP = df['avgGDP'].nlargest(15)\n",
    "\n",
    "avgGDP\n"
   ]
  },
  {
   "cell_type": "markdown",
   "metadata": {},
   "source": [
    "### Pregunta 4\n",
    "¿Cuánto cambió el GDP (PBI) durante el lapso de 10 años para el país con el sexto GDP (PBI) promedio más grande?\n",
    "\n",
    "*Esta función debería devolver un solo número.*"
   ]
  },
  {
   "cell_type": "code",
   "execution_count": 77,
   "metadata": {
    "deletable": false,
    "editable": false,
    "nbgrader": {
     "checksum": "a7770c49cdfac4fa6368dfe8b39e6474",
     "grade": true,
     "grade_id": "cell-564dd8e5e24b0f83",
     "locked": true,
     "points": 6.66,
     "schema_version": 1,
     "solution": false
    }
   },
   "outputs": [
    {
     "data": {
      "text/plain": [
       "np.float64(246702696075.3999)"
      ]
     },
     "execution_count": 77,
     "metadata": {},
     "output_type": "execute_result"
    }
   ],
   "source": [
    "sexto_pais = avgGDP.index[5] \n",
    "\n",
    "gdp_cambio = df.loc[sexto_pais, '2015'] - df.loc[sexto_pais, '2006']\n",
    "\n",
    "gdp_cambio\n"
   ]
  },
  {
   "cell_type": "markdown",
   "metadata": {
    "deletable": false,
    "editable": false,
    "nbgrader": {
     "checksum": "ed6dbc94ff1b6268873413fee12741cd",
     "grade": false,
     "grade_id": "cell-617669111e38ca15",
     "locked": true,
     "schema_version": 1,
     "solution": false
    }
   },
   "source": [
    "### Pregunta 5\n",
    "¿Cuál es el suministro medio de energía per cápita (`Energy Supply per Capita`)?\n",
    "\n",
    "*Esta función debería devolver un solo número.*"
   ]
  },
  {
   "cell_type": "code",
   "execution_count": 78,
   "metadata": {
    "deletable": false,
    "editable": false,
    "nbgrader": {
     "checksum": "9d61bf22656baeecc77f63d54448590e",
     "grade": true,
     "grade_id": "cell-30cc66180851638c",
     "locked": true,
     "points": 6.66,
     "schema_version": 1,
     "solution": false
    }
   },
   "outputs": [
    {
     "data": {
      "text/plain": [
       "np.float64(157.14285714285714)"
      ]
     },
     "execution_count": 78,
     "metadata": {},
     "output_type": "execute_result"
    }
   ],
   "source": [
    "suministro_medio_energia_per_capita = df['Energy Supply per Capita'].mean()\n",
    "\n",
    "suministro_medio_energia_per_capita\n"
   ]
  },
  {
   "cell_type": "markdown",
   "metadata": {
    "deletable": false,
    "editable": false,
    "nbgrader": {
     "checksum": "2c7a163ae96f56317756456b0d9d695b",
     "grade": false,
     "grade_id": "cell-5c11ddd12fd71b3f",
     "locked": true,
     "schema_version": 1,
     "solution": false
    }
   },
   "source": [
    "### Pregunta 6\n",
    "¿Qué país tiene el máximo `% Renewable` y cuál es el porcentaje?\n",
    "\n",
    "*Esta función debe devolver una tupla con el nombre del país y el porcentaje.*"
   ]
  },
  {
   "cell_type": "code",
   "execution_count": 79,
   "metadata": {
    "deletable": false,
    "editable": false,
    "nbgrader": {
     "checksum": "f8b28b0a824a3b76a6244c1273648ccd",
     "grade": true,
     "grade_id": "cell-2bd201c5c7bdd80f",
     "locked": true,
     "points": 6.66,
     "schema_version": 1,
     "solution": false
    }
   },
   "outputs": [
    {
     "data": {
      "text/plain": [
       "('Brazil', 69.64803)"
      ]
     },
     "execution_count": 79,
     "metadata": {},
     "output_type": "execute_result"
    }
   ],
   "source": [
    "pais_max_renewable = df['% Renewable'].idxmax()\n",
    "porcentaje_max_renewable = df['% Renewable'].max()\n",
    "\n",
    "resultado = (pais_max_renewable, porcentaje_max_renewable)\n",
    "\n",
    "resultado\n"
   ]
  },
  {
   "cell_type": "markdown",
   "metadata": {
    "deletable": false,
    "editable": false,
    "nbgrader": {
     "checksum": "a7b561a486a28ee4ba80a40715617c6d",
     "grade": false,
     "grade_id": "cell-ddf52a85ad3d5a11",
     "locked": true,
     "schema_version": 1,
     "solution": false
    }
   },
   "source": [
    "### Pregunta 7\n",
    "Cree una nueva columna que sea la relación entre `Self-Citations` y `Total Citations`.\n",
    "¿Cuál es el valor máximo para esta nueva columna y qué país tiene la relación más alta?\n",
    "\n",
    "*Esta función debe devolver una tupla con el nombre del país y el ratio (proporción).*"
   ]
  },
  {
   "cell_type": "code",
   "execution_count": 80,
   "metadata": {
    "deletable": false,
    "editable": false,
    "nbgrader": {
     "checksum": "ca448b3a16b65a3a08533cac736cc4d9",
     "grade": true,
     "grade_id": "cell-b7a163e9231b88c9",
     "locked": true,
     "points": 6.66,
     "schema_version": 1,
     "solution": false
    }
   },
   "outputs": [
    {
     "data": {
      "text/plain": [
       "('China', np.float64(0.6893126179389422))"
      ]
     },
     "execution_count": 80,
     "metadata": {},
     "output_type": "execute_result"
    }
   ],
   "source": [
    "df['Citations Ratio'] = df['Self-citations'] / df['Citations']\n",
    "\n",
    "pais_max_ratio = df['Citations Ratio'].idxmax()\n",
    "valor_max_ratio = df['Citations Ratio'].max()\n",
    "\n",
    "resultado = (pais_max_ratio, valor_max_ratio)\n",
    "\n",
    "resultado\n"
   ]
  },
  {
   "cell_type": "markdown",
   "metadata": {
    "deletable": false,
    "editable": false,
    "nbgrader": {
     "checksum": "7be7b86ee7467539dd88746818c78c0e",
     "grade": false,
     "grade_id": "cell-5c89296ab6f94218",
     "locked": true,
     "schema_version": 1,
     "solution": false
    }
   },
   "source": [
    "### Pregunta 8\n",
    "\n",
    "Crea una columna que estime la población utilizando `Energy Supply` y `Energy Supply per capita`.\n",
    "¿Cuál es el tercer país más poblado según esta estimación?\n",
    "\n",
    "*Esta función debería devolver el nombre del país*"
   ]
  },
  {
   "cell_type": "code",
   "execution_count": 81,
   "metadata": {
    "deletable": false,
    "editable": false,
    "nbgrader": {
     "checksum": "ba2ad50cf8198767b0bd2f75b8d97e87",
     "grade": true,
     "grade_id": "cell-3f3620c88df08b20",
     "locked": true,
     "points": 0,
     "schema_version": 1,
     "solution": false
    }
   },
   "outputs": [
    {
     "data": {
      "text/plain": [
       "'Russian Federation'"
      ]
     },
     "execution_count": 81,
     "metadata": {},
     "output_type": "execute_result"
    }
   ],
   "source": [
    "df['Poblacion Estimada'] = df['Energy Supply'] / df['Energy Supply per Capita']\n",
    "\n",
    "tercer_pais_mas_poblado = df['Poblacion Estimada'].sort_values(ascending=False).index[2]\n",
    "\n",
    "tercer_pais_mas_poblado\n"
   ]
  },
  {
   "cell_type": "markdown",
   "metadata": {
    "deletable": false,
    "editable": false,
    "nbgrader": {
     "checksum": "164cba98164a1045db7de10dd37115c8",
     "grade": false,
     "grade_id": "cell-2065207e66e5ec01",
     "locked": true,
     "schema_version": 1,
     "solution": false
    }
   },
   "source": [
    "### Pregunta 9\n",
    "Crea una columna que estime el número de `Citable documents` por persona.\n",
    "¿Cuál es la correlación entre el número de `Citable documents` per cápita y el `Energy Supply per Capita`? Utiliza el método `.corr()`, (correlación de Pearson).\n",
    "\n",
    "*Esta función debería devolver un solo número.*\n",
    "\n",
    "*(Opcional: utiliza la función `plot9()` para visualizar la relación entre el suministro de energía per cápita y los `Citable documents` per cápita)*"
   ]
  },
  {
   "cell_type": "code",
   "execution_count": 82,
   "metadata": {
    "deletable": false,
    "nbgrader": {
     "checksum": "94e06c4c3a9618b94dbb0e86913b546c",
     "grade": false,
     "grade_id": "cell-033679ea456bfb9d",
     "locked": false,
     "schema_version": 1,
     "solution": true
    }
   },
   "outputs": [
    {
     "data": {
      "image/png": "[encoded data removed]",
      "text/plain": [
       "<Figure size 640x480 with 1 Axes>"
      ]
     },
     "metadata": {},
     "output_type": "display_data"
    }
   ],
   "source": [
    "df['Poblacion Estimada'] = df['Energy Supply'] / df['Energy Supply per Capita']\n",
    "\n",
    "df['Citable documents per Capita'] = df['Citable documents'] / df['Poblacion Estimada']\n",
    "\n",
    "correlacion = df['Citable documents per Capita'].corr(df['Energy Supply per Capita'])\n",
    "\n",
    "correlacion\n",
    "\n",
    "import matplotlib.pyplot as plt\n",
    "\n",
    "def plot9():\n",
    "    plt.scatter(df['Energy Supply per Capita'], df['Citable documents per Capita'])\n",
    "    plt.xlabel('Energy Supply per Capita')\n",
    "    plt.ylabel('Citable documents per Capita')\n",
    "    plt.title('Relación entre Energy Supply per Capita y Citable documents per Capita')\n",
    "    plt.show()\n",
    "\n",
    "plot9()    \n",
    "\n"
   ]
  },
  {
   "cell_type": "code",
   "execution_count": 83,
   "metadata": {
    "ExecuteTime": {
     "end_time": "2023-05-20T14:27:50.500005076Z",
     "start_time": "2023-05-20T14:27:50.405942999Z"
    },
    "deletable": false,
    "editable": false,
    "nbgrader": {
     "checksum": "01a146bbcca0fa9c9c13e71ab52e710f",
     "grade": false,
     "grade_id": "cell-644824f6c708bf80",
     "locked": true,
     "schema_version": 1,
     "solution": false
    }
   },
   "outputs": [
    {
     "data": {
      "image/png": "[encoded data removed]",
      "text/plain": [
       "<Figure size 640x480 with 1 Axes>"
      ]
     },
     "metadata": {},
     "output_type": "display_data"
    }
   ],
   "source": [
    "def plot9():\n",
    "    import matplotlib as plt\n",
    "    %matplotlib inline\n",
    "\n",
    "    top15 = df  # df debe ser el nombre del DataFrame que obtuviste en la pregunta 1\n",
    "    top15['PopEst'] = top15['Energy Supply'] / top15['Energy Supply per Capita']\n",
    "    top15['Citable docs per Capita'] = top15['Citable documents'] / top15['PopEst']\n",
    "    top15.plot(x='Citable docs per Capita', y='Energy Supply per Capita', kind='scatter', xlim=[0, 0.0006])\n",
    "\n",
    "plot9()"
   ]
  },
  {
   "cell_type": "markdown",
   "metadata": {
    "deletable": false,
    "editable": false,
    "nbgrader": {
     "checksum": "8af5ffad89be1e5c6292438724d6f8d5",
     "grade": false,
     "grade_id": "cell-ad09765e29b91157",
     "locked": true,
     "schema_version": 1,
     "solution": false
    }
   },
   "source": [
    "### Pregunta 10\n",
    "Crea una nueva columna con un valor igual a 1 si el valor de % de energía renovable del país (`% Renewable`) es igual o superior de la mediana de todos los países en el top 15, o con un valor igual a 0 si el valor de % de energía renovable del país (`% Renewable`) está por debajo de la mediana.\n",
    "\n",
    "*Esta función debería devolver una serie llamada `HighRenew` cuyo índice es el nombre del país ordenado ascendentemente según el ranking.*"
   ]
  },
  {
   "cell_type": "code",
   "execution_count": 84,
   "metadata": {
    "deletable": false,
    "editable": false,
    "nbgrader": {
     "checksum": "f624e6996eca5796eaf27fb4d0593175",
     "grade": true,
     "grade_id": "cell-b29a631fd9a7730f",
     "locked": true,
     "points": 6.66,
     "schema_version": 1,
     "solution": false
    }
   },
   "outputs": [
    {
     "data": {
      "text/plain": [
       "Country\n",
       "Australia             0\n",
       "Brazil                1\n",
       "Canada                1\n",
       "China                 0\n",
       "France                0\n",
       "Germany               1\n",
       "India                 0\n",
       "Iran                  0\n",
       "Italy                 0\n",
       "Japan                 0\n",
       "Russian Federation    1\n",
       "South Korea           0\n",
       "Spain                 0\n",
       "United Kingdom        0\n",
       "United States         0\n",
       "Name: HighRenew, dtype: int64"
      ]
     },
     "execution_count": 84,
     "metadata": {},
     "output_type": "execute_result"
    }
   ],
   "source": [
    "mediana_renewable = df['% Renewable'].median()\n",
    "\n",
    "df['HighRenew'] = (df['% Renewable'] >= mediana_renewable).astype(int)\n",
    "\n",
    "HighRenew = df['HighRenew'].sort_index()\n",
    "\n",
    "HighRenew\n"
   ]
  },
  {
   "cell_type": "markdown",
   "metadata": {
    "deletable": false,
    "editable": false,
    "nbgrader": {
     "checksum": "52f682e7066791c34cd3b2402855cbf5",
     "grade": false,
     "grade_id": "cell-677c51ba711c3af7",
     "locked": true,
     "schema_version": 1,
     "solution": false
    }
   },
   "source": [
    "### Pregunta 11\n",
    "Utiliza el siguiente diccionario para agrupar los países por continente, luego crea un DataFrame que muestre el tamaño de la muestra (la cantidad de países en cada contenedor de continente) y la suma, la media y la desviación estándar para la población estimada de cada país.\n",
    "\n",
    "```python\n",
    "continent_dict  = {'China':'Asia',\n",
    "                   'United States':'North America',\n",
    "                   'Japan':'Asia',\n",
    "                   'United Kingdom':'Europe',\n",
    "                   'Russian Federation':'Europe',\n",
    "                   'Canada':'North America',\n",
    "                   'Germany':'Europe',\n",
    "                   'India':'Asia',\n",
    "                   'France':'Europe',\n",
    "                   'South Korea':'Asia',\n",
    "                   'Italy':'Europe',\n",
    "                   'Spain':'Europe',\n",
    "                   'Iran':'Asia',\n",
    "                   'Australia':'Australia',\n",
    "                   'Brazil':'South America'}\n",
    "```\n",
    "\n",
    "*Esta función debería devolver un DataFrame con un índice llamado Continent `['Asia', 'Australia', 'Europe', 'North America', 'South America']` y columnas `['size', 'sum', 'mean', 'std']`*"
   ]
  },
  {
   "cell_type": "code",
   "execution_count": 85,
   "metadata": {
    "deletable": false,
    "editable": false,
    "nbgrader": {
     "checksum": "233318097d9c94fdc87395c967da14c4",
     "grade": true,
     "grade_id": "cell-18d1a07971b25743",
     "locked": true,
     "points": 6.66,
     "schema_version": 1,
     "solution": false
    }
   },
   "outputs": [
    {
     "data": {
      "text/html": [
       "<div>\n",
       "<style scoped>\n",
       "    .dataframe tbody tr th:only-of-type {\n",
       "        vertical-align: middle;\n",
       "    }\n",
       "\n",
       "    .dataframe tbody tr th {\n",
       "        vertical-align: top;\n",
       "    }\n",
       "\n",
       "    .dataframe thead th {\n",
       "        text-align: right;\n",
       "    }\n",
       "</style>\n",
       "<table border=\"1\" class=\"dataframe\">\n",
       "  <thead>\n",
       "    <tr style=\"text-align: right;\">\n",
       "      <th></th>\n",
       "      <th>size</th>\n",
       "      <th>sum</th>\n",
       "      <th>mean</th>\n",
       "      <th>std</th>\n",
       "    </tr>\n",
       "    <tr>\n",
       "      <th>Continent</th>\n",
       "      <th></th>\n",
       "      <th></th>\n",
       "      <th></th>\n",
       "      <th></th>\n",
       "    </tr>\n",
       "  </thead>\n",
       "  <tbody>\n",
       "    <tr>\n",
       "      <th>Asia</th>\n",
       "      <td>5</td>\n",
       "      <td>1403611829.347123</td>\n",
       "      <td>467870609.782374</td>\n",
       "      <td>7.006261e+08</td>\n",
       "    </tr>\n",
       "    <tr>\n",
       "      <th>Australia</th>\n",
       "      <td>1</td>\n",
       "      <td>0</td>\n",
       "      <td>NaN</td>\n",
       "      <td>NaN</td>\n",
       "    </tr>\n",
       "    <tr>\n",
       "      <th>Europe</th>\n",
       "      <td>6</td>\n",
       "      <td>223869696.969697</td>\n",
       "      <td>111934848.484848</td>\n",
       "      <td>4.463987e+07</td>\n",
       "    </tr>\n",
       "    <tr>\n",
       "      <th>North America</th>\n",
       "      <td>2</td>\n",
       "      <td>35239864.864865</td>\n",
       "      <td>35239864.864865</td>\n",
       "      <td>NaN</td>\n",
       "    </tr>\n",
       "    <tr>\n",
       "      <th>South America</th>\n",
       "      <td>1</td>\n",
       "      <td>205915254.237288</td>\n",
       "      <td>205915254.237288</td>\n",
       "      <td>NaN</td>\n",
       "    </tr>\n",
       "  </tbody>\n",
       "</table>\n",
       "</div>"
      ],
      "text/plain": [
       "               size                sum              mean           std\n",
       "Continent                                                             \n",
       "Asia              5  1403611829.347123  467870609.782374  7.006261e+08\n",
       "Australia         1                  0               NaN           NaN\n",
       "Europe            6   223869696.969697  111934848.484848  4.463987e+07\n",
       "North America     2    35239864.864865   35239864.864865           NaN\n",
       "South America     1   205915254.237288  205915254.237288           NaN"
      ]
     },
     "execution_count": 85,
     "metadata": {},
     "output_type": "execute_result"
    }
   ],
   "source": [
    "continent_dict  = {'China':'Asia',\n",
    "                   'United States':'North America',\n",
    "                   'Japan':'Asia',\n",
    "                   'United Kingdom':'Europe',\n",
    "                   'Russian Federation':'Europe',\n",
    "                   'Canada':'North America',\n",
    "                   'Germany':'Europe',\n",
    "                   'India':'Asia',\n",
    "                   'France':'Europe',\n",
    "                   'South Korea':'Asia',\n",
    "                   'Italy':'Europe',\n",
    "                   'Spain':'Europe',\n",
    "                   'Iran':'Asia',\n",
    "                   'Australia':'Australia',\n",
    "                   'Brazil':'South America'}\n",
    "\n",
    "df['Continent'] = df.index.map(continent_dict)\n",
    "\n",
    "resultado = df.groupby('Continent')['Poblacion Estimada'].agg(['size', 'sum', 'mean', 'std'])\n",
    "\n",
    "resultado\n"
   ]
  },
  {
   "cell_type": "markdown",
   "metadata": {
    "deletable": false,
    "editable": false,
    "nbgrader": {
     "checksum": "61562b9b667bd5efbcec0dcd7becbfaa",
     "grade": false,
     "grade_id": "cell-998b62d4f390ef15",
     "locked": true,
     "schema_version": 1,
     "solution": false
    }
   },
   "source": [
    "### Optional\n",
    "\n",
    "Puedes ejecutar la función `plot_optional()` para ver un ejemplo de visualización."
   ]
  },
  {
   "cell_type": "code",
   "execution_count": 86,
   "metadata": {
    "deletable": false,
    "editable": false,
    "nbgrader": {
     "checksum": "479786c97cb5f34d07231c6d7c602a47",
     "grade": false,
     "grade_id": "cell-741fd55ea57cd40a",
     "locked": true,
     "schema_version": 1,
     "solution": false
    }
   },
   "outputs": [
    {
     "name": "stdout",
     "output_type": "stream",
     "text": [
      "Este es un ejemplo de visualización realizado para ayudarte a comprender los datos. \n",
      "Este es un gráfico de burbujas que muestra el % Renewable vs. Rank. \n",
      "El tamaño de la burbuja corresponde al GDP (PIB) de 2014 de los países, y el color corresponde al continente.\n"
     ]
    },
    {
     "data": {
      "image/png": "[encoded data removed]",
      "text/plain": [
       "<Figure size 1600x600 with 1 Axes>"
      ]
     },
     "metadata": {},
     "output_type": "display_data"
    }
   ],
   "source": [
    "def plot_optional():\n",
    "    import matplotlib as plt\n",
    "    %matplotlib inline\n",
    "    top15 = df  # df debe ser el nombre del DataFrame que obtuviste en la pregunta 1\n",
    "    ax = top15.plot(x='Rank', y='% Renewable', kind='scatter',\n",
    "                    c=['#e41a1c', '#377eb8', '#e41a1c', '#4daf4a',\n",
    "                       '#4daf4a', '#377eb8', '#4daf4a', '#e41a1c',\n",
    "                       '#4daf4a', '#e41a1c', '#4daf4a', '#4daf4a',\n",
    "                       '#e41a1c', '#dede00', '#ff7f00'],\n",
    "                    xticks=range(1, 16), s=6 * top15['2014'] / 10 ** 10,\n",
    "                    alpha=.75, figsize=[16, 6])\n",
    "\n",
    "    for i, txt in enumerate(top15.index):\n",
    "        ax.annotate(txt, [top15['Rank'][i], top15['% Renewable'][i]], ha='center')\n",
    "\n",
    "    print(\n",
    "        \"\"\"Este es un ejemplo de visualización realizado para ayudarte a comprender los datos. \\nEste es un gráfico de burbujas que muestra el % Renewable vs. Rank. \\nEl tamaño de la burbuja corresponde al GDP (PIB) de 2014 de los países, y el color corresponde al continente.\"\"\")\n",
    "\n",
    "\n",
    "plot_optional()"
   ]
  }
 ],
 "metadata": {
  "anaconda-cloud": {},
  "coursera": {
   "schema_names": [
    "mooc_adswpy_1_v2_assignment3"
   ]
  },
  "kernelspec": {
   "display_name": "Python 3",
   "language": "python",
   "name": "python3"
  },
  "language_info": {
   "codemirror_mode": {
    "name": "ipython",
    "version": 3
   },
   "file_extension": ".py",
   "mimetype": "text/x-python",
   "name": "python",
   "nbconvert_exporter": "python",
   "pygments_lexer": "ipython3",
   "version": "3.12.3"
  }
 },
 "nbformat": 4,
 "nbformat_minor": 1
}
